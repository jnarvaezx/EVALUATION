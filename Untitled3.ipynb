{
 "cells": [
  {
   "cell_type": "markdown",
   "id": "e933352a-448c-4983-b7a5-3139358fb87b",
   "metadata": {},
   "source": [
    "# In this notebook, Data Science and Ecosystem"
   ]
  },
  {
   "cell_type": "markdown",
   "id": "42b22d28-995c-4474-bc7a-b713cedf4ce7",
   "metadata": {
    "tags": []
   },
   "source": [
    "# Objetives:"
   ]
  },
  {
   "cell_type": "code",
   "execution_count": 24,
   "id": "3150a03c-7215-4511-85ef-b09fe09baee4",
   "metadata": {},
   "outputs": [
    {
     "name": "stdout",
     "output_type": "stream",
     "text": [
      "- Phyton\n",
      "- Javascript\n",
      "- R\n"
     ]
    }
   ],
   "source": [
    "unorderedList = [\"Phyton\",\"Javascript\",\"R\"]\n",
    "\n",
    "\n",
    "for elemento in unorderedList:\n",
    " print(\"-\",elemento)"
   ]
  },
  {
   "cell_type": "markdown",
   "id": "282b5650-ab11-48f2-9f75-ccc091845588",
   "metadata": {},
   "source": []
  }
 ],
 "metadata": {
  "kernelspec": {
   "display_name": "Python 3 (ipykernel)",
   "language": "python",
   "name": "python3"
  },
  "language_info": {
   "codemirror_mode": {
    "name": "ipython",
    "version": 3
   },
   "file_extension": ".py",
   "mimetype": "text/x-python",
   "name": "python",
   "nbconvert_exporter": "python",
   "pygments_lexer": "ipython3",
   "version": "3.10.9"
  }
 },
 "nbformat": 4,
 "nbformat_minor": 5
}
